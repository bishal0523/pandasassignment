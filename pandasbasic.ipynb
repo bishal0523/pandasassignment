{
 "cells": [
  {
   "cell_type": "code",
   "execution_count": 1,
   "id": "0f0d4136-029f-4d1d-85ca-a1f83d40edc6",
   "metadata": {},
   "outputs": [],
   "source": [
    "import pandas as pd\n"
   ]
  },
  {
   "cell_type": "code",
   "execution_count": 2,
   "id": "56c4093d-733b-48e2-bc44-46bbba41ee08",
   "metadata": {},
   "outputs": [
    {
     "name": "stdout",
     "output_type": "stream",
     "text": [
      "Requirement already satisfied: pandas in /opt/conda/lib/python3.10/site-packages (1.5.2)\n",
      "Requirement already satisfied: python-dateutil>=2.8.1 in /opt/conda/lib/python3.10/site-packages (from pandas) (2.8.2)\n",
      "Requirement already satisfied: pytz>=2020.1 in /opt/conda/lib/python3.10/site-packages (from pandas) (2022.6)\n",
      "Requirement already satisfied: numpy>=1.21.0 in /opt/conda/lib/python3.10/site-packages (from pandas) (1.23.5)\n",
      "Requirement already satisfied: six>=1.5 in /opt/conda/lib/python3.10/site-packages (from python-dateutil>=2.8.1->pandas) (1.16.0)\n",
      "Note: you may need to restart the kernel to use updated packages.\n"
     ]
    }
   ],
   "source": [
    "pip install pandas"
   ]
  },
  {
   "cell_type": "code",
   "execution_count": 3,
   "id": "9bf70932-8138-4686-880f-f696126561ed",
   "metadata": {},
   "outputs": [
    {
     "name": "stdout",
     "output_type": "stream",
     "text": [
      "0     4\n",
      "1     8\n",
      "2    15\n",
      "3    16\n",
      "4    23\n",
      "5    42\n",
      "dtype: int64\n"
     ]
    }
   ],
   "source": [
    "#q1 Create a Pandas Series that contains the following data: 4, 8, 15, 16, 23, and 42. Then, print the series.\n",
    "import pandas as pd\n",
    "\n",
    "data = [4, 8, 15, 16, 23, 42]\n",
    "series = pd.Series(data)\n",
    "print(series)\n"
   ]
  },
  {
   "cell_type": "code",
   "execution_count": 4,
   "id": "e30b214c-eae7-4475-8653-78748f9df4ea",
   "metadata": {},
   "outputs": [],
   "source": [
    "#Q2. Create a variable of list type containing 10 elements in it, and apply pandas.Series function on the\n",
    "#variable print it."
   ]
  },
  {
   "cell_type": "code",
   "execution_count": 5,
   "id": "7cec0a2c-ccd5-417b-97ca-3e5b32d2f58d",
   "metadata": {},
   "outputs": [
    {
     "name": "stdout",
     "output_type": "stream",
     "text": [
      "0     1\n",
      "1     2\n",
      "2     3\n",
      "3     4\n",
      "4     5\n",
      "5     6\n",
      "6     7\n",
      "7     8\n",
      "8     9\n",
      "9    10\n",
      "dtype: int64\n"
     ]
    }
   ],
   "source": [
    "data_list = [1, 2, 3, 4, 5, 6, 7, 8, 9, 10]\n",
    "series = pd.Series(data_list)\n",
    "print(series)\n"
   ]
  },
  {
   "cell_type": "code",
   "execution_count": 6,
   "id": "4b830d37-90ea-466a-b502-9ee0c084e69a",
   "metadata": {},
   "outputs": [
    {
     "name": "stdout",
     "output_type": "stream",
     "text": [
      "     Name  Age  Gender\n",
      "0   Alice   25  Female\n",
      "1     Bob   30    Male\n",
      "2  Claire   27  Female\n"
     ]
    }
   ],
   "source": [
    "#q3.Q3. Create a Pandas DataFrame that contains the following data:\n",
    "\n",
    "#Then, print the DataFrame.\n",
    "#Name\n",
    "#Alice\n",
    "#Bob\n",
    "#Claire\n",
    "\n",
    "#Age\n",
    "#25\n",
    "#30\n",
    "#27\n",
    "\n",
    "#Gender\n",
    "#Female\n",
    "#Male\n",
    "#Female\n",
    "import pandas as pd\n",
    "\n",
    "data = {'Name': ['Alice', 'Bob', 'Claire'],\n",
    "        'Age': [25, 30, 27],\n",
    "        'Gender': ['Female', 'Male', 'Female']}\n",
    "\n",
    "df = pd.DataFrame(data)\n",
    "print(df)\n"
   ]
  },
  {
   "cell_type": "code",
   "execution_count": 7,
   "id": "b855d2e3-552a-4cb7-a400-0ba264841198",
   "metadata": {},
   "outputs": [
    {
     "name": "stdout",
     "output_type": "stream",
     "text": [
      "Gender\n",
      "Female    26.0\n",
      "Male      30.0\n",
      "Name: Age, dtype: float64\n"
     ]
    }
   ],
   "source": [
    "#Q4. What is ‘DataFrame’ in pandas and how is it different from pandas.series? Explain with an example.\n",
    "#A DataFrame is a 2-dimensional, size-mutable, and tabular data structure in Pandas. It consists of rows and columns, similar to a spreadsheet or SQL table. Each column in a DataFrame can be of a different data type, making it versatile for storing and analyzing data. In contrast, a Series is a 1-dimensional data structure in Pandas, similar to a column in a DataFrame.\n",
    "\n",
    "#Example of a Series:\n",
    "#data = [1, 2, 3, 4, 5]\n",
    "#series = pd.Series(data)\n",
    "#example of a dataframe\n",
    "#data = {'Name': ['Alice', 'Bob', 'Claire'],\n",
    "      #  'Age': [25, 30, 27],\n",
    "       # 'Gender': ['Female', 'Male', 'Female']}\n",
    "#df = pd.DataFrame(data)\n",
    "#Q5. What are some common functions you can use to manipulate data in a Pandas DataFrame? Can\n",
    "#you give an example of when you might use one of these functions?\n",
    "#Common functions for data manipulation in Pandas DataFrame include:\n",
    "\n",
    "#head() and tail(): To view the first or last few rows of the DataFrame.\n",
    "#describe(): To get summary statistics of numeric columns.\n",
    "#loc[] and iloc[]: For data selection and slicing.\n",
    "#groupby(): To group and aggregate data.\n",
    "#sort_values(): To sort the DataFrame by specific columns.\n",
    "#drop(): To remove rows or columns.\n",
    "#merge(): To combine DataFrames based on a common column.\n",
    "#pivot_table(): To create pivot tables for data analysis.\n",
    "#Example: Using groupby() to group and aggregate data.\n",
    "\n",
    "# Grouping by 'Gender' and calculating the mean age\n",
    "grouped = df.groupby('Gender')\n",
    "mean_age = grouped['Age'].mean()\n",
    "print(mean_age)\n",
    "\n",
    "\n",
    "\n"
   ]
  },
  {
   "cell_type": "code",
   "execution_count": 8,
   "id": "a3ba2b9b-317c-4228-9de3-88329a8acea1",
   "metadata": {},
   "outputs": [
    {
     "name": "stdout",
     "output_type": "stream",
     "text": [
      "     Name  Age  Gender\n",
      "0   Alice   25  Female\n",
      "1     Bob   30    Male\n",
      "2  Claire   27  Female\n"
     ]
    }
   ],
   "source": [
    "#q6.which of the following is mutable in nature Series, DataFrame, Panel?\n",
    "#Both Series and DataFrame are mutable in nature. This means you can modify the content of a Series or DataFrame after creation. You can add, update, or delete elements within them. However, a Panel is not a native data structure in modern versions of Pandas, so it's not relevant in this context.\n",
    "#q7. Create a DataFrame using multiple Series. Explain with an example.\n",
    "import pandas as pd\n",
    "\n",
    "names = pd.Series(['Alice', 'Bob', 'Claire'])\n",
    "ages = pd.Series([25, 30, 27])\n",
    "genders = pd.Series(['Female', 'Male', 'Female'])\n",
    "\n",
    "data = {'Name': names, 'Age': ages, 'Gender': genders}\n",
    "df = pd.DataFrame(data)\n",
    "\n",
    "print(df)\n"
   ]
  },
  {
   "cell_type": "code",
   "execution_count": null,
   "id": "a07946b6-866a-4a2d-a4d7-9541eb3380ee",
   "metadata": {},
   "outputs": [],
   "source": []
  }
 ],
 "metadata": {
  "kernelspec": {
   "display_name": "Python 3 (ipykernel)",
   "language": "python",
   "name": "python3"
  },
  "language_info": {
   "codemirror_mode": {
    "name": "ipython",
    "version": 3
   },
   "file_extension": ".py",
   "mimetype": "text/x-python",
   "name": "python",
   "nbconvert_exporter": "python",
   "pygments_lexer": "ipython3",
   "version": "3.10.8"
  }
 },
 "nbformat": 4,
 "nbformat_minor": 5
}
